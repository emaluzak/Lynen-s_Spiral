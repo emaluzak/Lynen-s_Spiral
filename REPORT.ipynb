{
 "cells": [
  {
   "cell_type": "markdown",
   "id": "22d7c367",
   "metadata": {},
   "source": [
    "INTRODUCTION\n",
    "\n",
    "1. Character: Research Topic\n",
    "\n",
    "    What is your project about? What field is it in?\n",
    "\n",
    "    Introduce the topic: fatty acid beta-oxidation (a core metabolic pathway in biochemistry).\n",
    "\n",
    "    Mention it's important for energy production and studied in biology, chemistry, and medicine.\n",
    "\n",
    "    Say your project focuses on visualizing this process through a web-based simulation."
   ]
  },
  {
   "cell_type": "markdown",
   "id": "2fecf9d9",
   "metadata": {},
   "source": [
    "2. Setting: Niche\n",
    "\n",
    "    What’s the specific gap you’re addressing?\n",
    "\n",
    "    Many resources (lectures, books) explain beta-oxidation textually or statically.\n",
    "\n",
    "    There’s a lack of interactive, student-focused tools that allow users to explore reactions visually and step-by-step.\n",
    "\n",
    "    Niche = educational biochemical visualization tools."
   ]
  },
  {
   "cell_type": "markdown",
   "id": "6d7e24af",
   "metadata": {},
   "source": [
    "3. Problem\n",
    "\n",
    "    What specific issue are you trying to solve?\n",
    "\n",
    "    Students find it difficult to understand beta-oxidation’s cycle structure and molecular changes.\n",
    "\n",
    "    It’s especially hard to see how different fatty acids affect the number of cycles or ATP yield.\n",
    "\n",
    "    Problem = abstract, complex pathway → difficult learning."
   ]
  },
  {
   "cell_type": "markdown",
   "id": "f0c5f101",
   "metadata": {},
   "source": [
    "4. Solution\n",
    "\n",
    "    What did you do about it?\n",
    "\n",
    "    Developed Lynen’s Spiral, a Streamlit app that:\n",
    "\n",
    "        Lets users select or build fatty acids\n",
    "\n",
    "        Simulates the cycles of oxidation\n",
    "\n",
    "        Displays 2D/3D molecules\n",
    "\n",
    "        Calculates ATP yield"
   ]
  },
  {
   "cell_type": "markdown",
   "id": "63f9d334",
   "metadata": {},
   "source": [
    "MATERIALS AND METHODS\n",
    "\n",
    "    What tools, libraries, or data did you use? How did you build the app?\n",
    "\n",
    "    Languages/libraries: Python, Streamlit, RDKit, Plotly\n",
    "\n",
    "    Explain what each component is used for\n",
    "\n",
    "        RDKit: 2D molecule rendering and manipulation\n",
    "\n",
    "        Plotly: interactive 3D graphs\n",
    "\n",
    "        Streamlit: frontend UI\n",
    "\n",
    "    Describe your approach to modeling the reactions\n",
    "\n",
    "    Include how you structured the simulation logic (cycles, intermediates, ATP calc)\n",
    "\n",
    "    Paragraphs: \n",
    "\n",
    "    Fatty Acid / Enhanced Fatty Acid\n",
    "    \n",
    "    Choosing Fatty Acid \n",
    "\n",
    "    Lynen Sprial\n",
    "\n",
    "    Mechanisms"
   ]
  },
  {
   "cell_type": "markdown",
   "id": "eedf857a",
   "metadata": {},
   "source": [
    "RESULTS\n",
    "\n",
    "    What does the app do? What does the user see or learn?\n",
    "\n",
    "    Describe features:\n",
    "\n",
    "        Custom fatty acid input\n",
    "\n",
    "        Visualization of cycles and intermediates\n",
    "\n",
    "        Mechanism details and ATP yield\n",
    "\n",
    "    You can include screenshots of the app and explain each one\n",
    "\n",
    "    Report how the features help address the problem from the in"
   ]
  },
  {
   "cell_type": "markdown",
   "id": "27e81a50",
   "metadata": {},
   "source": [
    "DISCUSSION\n",
    "\n",
    "    What do your results mean? What worked well? What didn’t? What’s next?\n",
    "\n",
    "    Reflect on strengths:\n",
    "\n",
    "        Improved visualization for students\n",
    "\n",
    "        Usability and interactivity\n",
    "\n",
    "    Mention any limitations:\n",
    "\n",
    "        Only works in browser, limited molecule complexity, etc.\n",
    "\n",
    "    Discuss future improvements:\n",
    "\n",
    "        Add more pathways (e.g., citric acid cycle) \n",
    "\n",
    "        Add a larger database of fatty acids, with parsing options. Customized fatty acids could also be compared to this database to obtain their name.\n",
    "\n",
    "        More feedback or quiz-like interactions"
   ]
  }
 ],
 "metadata": {
  "language_info": {
   "name": "python"
  }
 },
 "nbformat": 4,
 "nbformat_minor": 5
}
